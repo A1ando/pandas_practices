{
 "cells": [
  {
   "cell_type": "markdown",
   "metadata": {},
   "source": [
    "https://www.toutiao.com/a7041732456914895373/?log_from=f767f036c5a2f_1639668560474"
   ]
  },
  {
   "cell_type": "code",
   "execution_count": 57,
   "metadata": {},
   "outputs": [],
   "source": [
    "import pandas as pd\n",
    "import numpy as np"
   ]
  },
  {
   "cell_type": "code",
   "execution_count": 58,
   "metadata": {},
   "outputs": [],
   "source": [
    "data ={'姓名':[' 黄同学','黄至尊 ','黄老邪','陈大美','孙尚香'],\n",
    "     '英文名':['Huang tong_xue','huang zhi_zun','Huang Lao_xie','Chen Da_mei','sun shang_xiang'],\n",
    "     '性别':['男','women','men','女','男'],\n",
    "     '身份证':['463895200003128433','429475199912122345','420934199110102311','431085200005230122','420953199509082345'],\n",
    "     '身高':['mid:175_good','low:165_bad','low:159_bad','high:180_verygood','low:172_bad'],\n",
    "     '家庭住址':['湖北广水','河南信阳','广西桂林','湖北孝感','广东广州'],\n",
    "     '电话号码':['13434813546','19748672895','16728613064','14561586431','19384683910'],\n",
    "     '收入':['1.1万','8.5千','0.9万','6.5千','2.0万']}"
   ]
  },
  {
   "cell_type": "code",
   "execution_count": 59,
   "metadata": {},
   "outputs": [
    {
     "data": {
      "text/html": [
       "<div>\n",
       "<style scoped>\n",
       "    .dataframe tbody tr th:only-of-type {\n",
       "        vertical-align: middle;\n",
       "    }\n",
       "\n",
       "    .dataframe tbody tr th {\n",
       "        vertical-align: top;\n",
       "    }\n",
       "\n",
       "    .dataframe thead th {\n",
       "        text-align: right;\n",
       "    }\n",
       "</style>\n",
       "<table border=\"1\" class=\"dataframe\">\n",
       "  <thead>\n",
       "    <tr style=\"text-align: right;\">\n",
       "      <th></th>\n",
       "      <th>姓名</th>\n",
       "      <th>英文名</th>\n",
       "      <th>性别</th>\n",
       "      <th>身份证</th>\n",
       "      <th>身高</th>\n",
       "      <th>家庭住址</th>\n",
       "      <th>电话号码</th>\n",
       "      <th>收入</th>\n",
       "    </tr>\n",
       "  </thead>\n",
       "  <tbody>\n",
       "    <tr>\n",
       "      <th>0</th>\n",
       "      <td>黄同学</td>\n",
       "      <td>Huang tong_xue</td>\n",
       "      <td>男</td>\n",
       "      <td>463895200003128433</td>\n",
       "      <td>mid:175_good</td>\n",
       "      <td>湖北广水</td>\n",
       "      <td>13434813546</td>\n",
       "      <td>1.1万</td>\n",
       "    </tr>\n",
       "    <tr>\n",
       "      <th>1</th>\n",
       "      <td>黄至尊</td>\n",
       "      <td>huang zhi_zun</td>\n",
       "      <td>women</td>\n",
       "      <td>429475199912122345</td>\n",
       "      <td>low:165_bad</td>\n",
       "      <td>河南信阳</td>\n",
       "      <td>19748672895</td>\n",
       "      <td>8.5千</td>\n",
       "    </tr>\n",
       "    <tr>\n",
       "      <th>2</th>\n",
       "      <td>黄老邪</td>\n",
       "      <td>Huang Lao_xie</td>\n",
       "      <td>men</td>\n",
       "      <td>420934199110102311</td>\n",
       "      <td>low:159_bad</td>\n",
       "      <td>广西桂林</td>\n",
       "      <td>16728613064</td>\n",
       "      <td>0.9万</td>\n",
       "    </tr>\n",
       "    <tr>\n",
       "      <th>3</th>\n",
       "      <td>陈大美</td>\n",
       "      <td>Chen Da_mei</td>\n",
       "      <td>女</td>\n",
       "      <td>431085200005230122</td>\n",
       "      <td>high:180_verygood</td>\n",
       "      <td>湖北孝感</td>\n",
       "      <td>14561586431</td>\n",
       "      <td>6.5千</td>\n",
       "    </tr>\n",
       "    <tr>\n",
       "      <th>4</th>\n",
       "      <td>孙尚香</td>\n",
       "      <td>sun shang_xiang</td>\n",
       "      <td>男</td>\n",
       "      <td>420953199509082345</td>\n",
       "      <td>low:172_bad</td>\n",
       "      <td>广东广州</td>\n",
       "      <td>19384683910</td>\n",
       "      <td>2.0万</td>\n",
       "    </tr>\n",
       "  </tbody>\n",
       "</table>\n",
       "</div>"
      ],
      "text/plain": [
       "     姓名              英文名     性别                 身份证                 身高  家庭住址  \\\n",
       "0   黄同学   Huang tong_xue      男  463895200003128433       mid:175_good  湖北广水   \n",
       "1  黄至尊     huang zhi_zun  women  429475199912122345        low:165_bad  河南信阳   \n",
       "2   黄老邪    Huang Lao_xie    men  420934199110102311        low:159_bad  广西桂林   \n",
       "3   陈大美      Chen Da_mei      女  431085200005230122  high:180_verygood  湖北孝感   \n",
       "4   孙尚香  sun shang_xiang      男  420953199509082345        low:172_bad  广东广州   \n",
       "\n",
       "          电话号码    收入  \n",
       "0  13434813546  1.1万  \n",
       "1  19748672895  8.5千  \n",
       "2  16728613064  0.9万  \n",
       "3  14561586431  6.5千  \n",
       "4  19384683910  2.0万  "
      ]
     },
     "execution_count": 59,
     "metadata": {},
     "output_type": "execute_result"
    }
   ],
   "source": [
    "df = pd.DataFrame(data)\n",
    "df"
   ]
  },
  {
   "cell_type": "code",
   "execution_count": 60,
   "metadata": {},
   "outputs": [
    {
     "name": "stdout",
     "output_type": "stream",
     "text": [
      "<class 'pandas.core.frame.DataFrame'>\n",
      "RangeIndex: 5 entries, 0 to 4\n",
      "Data columns (total 8 columns):\n",
      " #   Column  Non-Null Count  Dtype \n",
      "---  ------  --------------  ----- \n",
      " 0   姓名      5 non-null      object\n",
      " 1   英文名     5 non-null      object\n",
      " 2   性别      5 non-null      object\n",
      " 3   身份证     5 non-null      object\n",
      " 4   身高      5 non-null      object\n",
      " 5   家庭住址    5 non-null      object\n",
      " 6   电话号码    5 non-null      object\n",
      " 7   收入      5 non-null      object\n",
      "dtypes: object(8)\n",
      "memory usage: 448.0+ bytes\n"
     ]
    }
   ],
   "source": [
    "df.info()"
   ]
  },
  {
   "cell_type": "markdown",
   "metadata": {},
   "source": [
    "### Series.str.cat(self, others=None, sep='', na_rep=None, join='left')"
   ]
  },
  {
   "cell_type": "code",
   "execution_count": 61,
   "metadata": {},
   "outputs": [
    {
     "data": {
      "text/plain": [
       "0     黄同学---湖北广水\n",
       "1    黄至尊 ---河南信阳\n",
       "2     黄老邪---广西桂林\n",
       "3     陈大美---湖北孝感\n",
       "4     孙尚香---广东广州\n",
       "Name: 姓名, dtype: object"
      ]
     },
     "execution_count": 61,
     "metadata": {},
     "output_type": "execute_result"
    }
   ],
   "source": [
    "df.姓名.str.cat(df['家庭住址'], sep='-'*3)"
   ]
  },
  {
   "cell_type": "code",
   "execution_count": 62,
   "metadata": {},
   "outputs": [
    {
     "data": {
      "text/html": [
       "<div>\n",
       "<style scoped>\n",
       "    .dataframe tbody tr th:only-of-type {\n",
       "        vertical-align: middle;\n",
       "    }\n",
       "\n",
       "    .dataframe tbody tr th {\n",
       "        vertical-align: top;\n",
       "    }\n",
       "\n",
       "    .dataframe thead th {\n",
       "        text-align: right;\n",
       "    }\n",
       "</style>\n",
       "<table border=\"1\" class=\"dataframe\">\n",
       "  <thead>\n",
       "    <tr style=\"text-align: right;\">\n",
       "      <th></th>\n",
       "      <th>姓名</th>\n",
       "      <th>英文名</th>\n",
       "      <th>性别</th>\n",
       "      <th>身份证</th>\n",
       "      <th>身高</th>\n",
       "      <th>家庭住址</th>\n",
       "      <th>电话号码</th>\n",
       "      <th>收入</th>\n",
       "    </tr>\n",
       "  </thead>\n",
       "  <tbody>\n",
       "    <tr>\n",
       "      <th>0</th>\n",
       "      <td>黄同学</td>\n",
       "      <td>Huang tong_xue</td>\n",
       "      <td>男</td>\n",
       "      <td>463895200003128433</td>\n",
       "      <td>mid:175_good</td>\n",
       "      <td>湖北广水</td>\n",
       "      <td>13434813546</td>\n",
       "      <td>1.1万</td>\n",
       "    </tr>\n",
       "    <tr>\n",
       "      <th>1</th>\n",
       "      <td>黄至尊</td>\n",
       "      <td>huang zhi_zun</td>\n",
       "      <td>women</td>\n",
       "      <td>429475199912122345</td>\n",
       "      <td>low:165_bad</td>\n",
       "      <td>河南信阳</td>\n",
       "      <td>19748672895</td>\n",
       "      <td>8.5千</td>\n",
       "    </tr>\n",
       "    <tr>\n",
       "      <th>2</th>\n",
       "      <td>黄老邪</td>\n",
       "      <td>Huang Lao_xie</td>\n",
       "      <td>men</td>\n",
       "      <td>420934199110102311</td>\n",
       "      <td>low:159_bad</td>\n",
       "      <td>广西桂林</td>\n",
       "      <td>16728613064</td>\n",
       "      <td>0.9万</td>\n",
       "    </tr>\n",
       "    <tr>\n",
       "      <th>3</th>\n",
       "      <td>陈大美</td>\n",
       "      <td>Chen Da_mei</td>\n",
       "      <td>女</td>\n",
       "      <td>431085200005230122</td>\n",
       "      <td>high:180_verygood</td>\n",
       "      <td>湖北孝感</td>\n",
       "      <td>14561586431</td>\n",
       "      <td>6.5千</td>\n",
       "    </tr>\n",
       "    <tr>\n",
       "      <th>4</th>\n",
       "      <td>孙尚香</td>\n",
       "      <td>sun shang_xiang</td>\n",
       "      <td>男</td>\n",
       "      <td>420953199509082345</td>\n",
       "      <td>low:172_bad</td>\n",
       "      <td>广东广州</td>\n",
       "      <td>19384683910</td>\n",
       "      <td>2.0万</td>\n",
       "    </tr>\n",
       "  </tbody>\n",
       "</table>\n",
       "</div>"
      ],
      "text/plain": [
       "     姓名              英文名     性别                 身份证                 身高  家庭住址  \\\n",
       "0   黄同学   Huang tong_xue      男  463895200003128433       mid:175_good  湖北广水   \n",
       "1  黄至尊     huang zhi_zun  women  429475199912122345        low:165_bad  河南信阳   \n",
       "2   黄老邪    Huang Lao_xie    men  420934199110102311        low:159_bad  广西桂林   \n",
       "3   陈大美      Chen Da_mei      女  431085200005230122  high:180_verygood  湖北孝感   \n",
       "4   孙尚香  sun shang_xiang      男  420953199509082345        low:172_bad  广东广州   \n",
       "\n",
       "          电话号码    收入  \n",
       "0  13434813546  1.1万  \n",
       "1  19748672895  8.5千  \n",
       "2  16728613064  0.9万  \n",
       "3  14561586431  6.5千  \n",
       "4  19384683910  2.0万  "
      ]
     },
     "execution_count": 62,
     "metadata": {},
     "output_type": "execute_result"
    }
   ],
   "source": [
    "df"
   ]
  },
  {
   "cell_type": "markdown",
   "metadata": {},
   "source": [
    "### contains查看是否含有某个字段"
   ]
  },
  {
   "cell_type": "code",
   "execution_count": 63,
   "metadata": {},
   "outputs": [
    {
     "data": {
      "text/plain": [
       "0     True\n",
       "1    False\n",
       "2     True\n",
       "3    False\n",
       "4     True\n",
       "Name: 家庭住址, dtype: bool"
      ]
     },
     "execution_count": 63,
     "metadata": {},
     "output_type": "execute_result"
    }
   ],
   "source": [
    "df.家庭住址.str.contains('广')"
   ]
  },
  {
   "cell_type": "markdown",
   "metadata": {},
   "source": [
    "### 以什么开头，以什么结尾"
   ]
  },
  {
   "cell_type": "code",
   "execution_count": 64,
   "metadata": {},
   "outputs": [
    {
     "data": {
      "text/plain": [
       "0    False\n",
       "1     True\n",
       "2     True\n",
       "3    False\n",
       "4    False\n",
       "Name: 姓名, dtype: bool"
      ]
     },
     "execution_count": 64,
     "metadata": {},
     "output_type": "execute_result"
    }
   ],
   "source": [
    "df.姓名.str.startswith('黄')"
   ]
  },
  {
   "cell_type": "code",
   "execution_count": 65,
   "metadata": {},
   "outputs": [
    {
     "data": {
      "text/plain": [
       "0     True\n",
       "1    False\n",
       "2     True\n",
       "3    False\n",
       "4    False\n",
       "Name: 英文名, dtype: bool"
      ]
     },
     "execution_count": 65,
     "metadata": {},
     "output_type": "execute_result"
    }
   ],
   "source": [
    "df.英文名.str.endswith('e')"
   ]
  },
  {
   "cell_type": "markdown",
   "metadata": {},
   "source": [
    "### 计算字符串中某个字符出现的次数"
   ]
  },
  {
   "cell_type": "code",
   "execution_count": 66,
   "metadata": {},
   "outputs": [
    {
     "data": {
      "text/plain": [
       "0    3\n",
       "1    0\n",
       "2    1\n",
       "3    1\n",
       "4    2\n",
       "Name: 电话号码, dtype: int64"
      ]
     },
     "execution_count": 66,
     "metadata": {},
     "output_type": "execute_result"
    }
   ],
   "source": [
    "df.电话号码.str.count('3')\n"
   ]
  },
  {
   "cell_type": "markdown",
   "metadata": {},
   "source": [
    "### 准确获取字符串某个位置上的字符"
   ]
  },
  {
   "cell_type": "code",
   "execution_count": 67,
   "metadata": {},
   "outputs": [
    {
     "data": {
      "text/plain": [
       "0    学\n",
       "1     \n",
       "2    邪\n",
       "3    美\n",
       "4    香\n",
       "Name: 姓名, dtype: object"
      ]
     },
     "execution_count": 67,
     "metadata": {},
     "output_type": "execute_result"
    }
   ],
   "source": [
    "df['姓名'].str.get(-1)"
   ]
  },
  {
   "cell_type": "code",
   "execution_count": 68,
   "metadata": {},
   "outputs": [
    {
     "data": {
      "text/html": [
       "<div>\n",
       "<style scoped>\n",
       "    .dataframe tbody tr th:only-of-type {\n",
       "        vertical-align: middle;\n",
       "    }\n",
       "\n",
       "    .dataframe tbody tr th {\n",
       "        vertical-align: top;\n",
       "    }\n",
       "\n",
       "    .dataframe thead th {\n",
       "        text-align: right;\n",
       "    }\n",
       "</style>\n",
       "<table border=\"1\" class=\"dataframe\">\n",
       "  <thead>\n",
       "    <tr style=\"text-align: right;\">\n",
       "      <th></th>\n",
       "      <th>姓名</th>\n",
       "      <th>英文名</th>\n",
       "      <th>性别</th>\n",
       "      <th>身份证</th>\n",
       "      <th>身高</th>\n",
       "      <th>家庭住址</th>\n",
       "      <th>电话号码</th>\n",
       "      <th>收入</th>\n",
       "    </tr>\n",
       "  </thead>\n",
       "  <tbody>\n",
       "    <tr>\n",
       "      <th>0</th>\n",
       "      <td>黄同学</td>\n",
       "      <td>Huang tong_xue</td>\n",
       "      <td>男</td>\n",
       "      <td>463895200003128433</td>\n",
       "      <td>mid:175_good</td>\n",
       "      <td>湖北广水</td>\n",
       "      <td>13434813546</td>\n",
       "      <td>1.1万</td>\n",
       "    </tr>\n",
       "    <tr>\n",
       "      <th>1</th>\n",
       "      <td>黄至尊</td>\n",
       "      <td>huang zhi_zun</td>\n",
       "      <td>women</td>\n",
       "      <td>429475199912122345</td>\n",
       "      <td>low:165_bad</td>\n",
       "      <td>河南信阳</td>\n",
       "      <td>19748672895</td>\n",
       "      <td>8.5千</td>\n",
       "    </tr>\n",
       "    <tr>\n",
       "      <th>2</th>\n",
       "      <td>黄老邪</td>\n",
       "      <td>Huang Lao_xie</td>\n",
       "      <td>men</td>\n",
       "      <td>420934199110102311</td>\n",
       "      <td>low:159_bad</td>\n",
       "      <td>广西桂林</td>\n",
       "      <td>16728613064</td>\n",
       "      <td>0.9万</td>\n",
       "    </tr>\n",
       "    <tr>\n",
       "      <th>3</th>\n",
       "      <td>陈大美</td>\n",
       "      <td>Chen Da_mei</td>\n",
       "      <td>女</td>\n",
       "      <td>431085200005230122</td>\n",
       "      <td>high:180_verygood</td>\n",
       "      <td>湖北孝感</td>\n",
       "      <td>14561586431</td>\n",
       "      <td>6.5千</td>\n",
       "    </tr>\n",
       "    <tr>\n",
       "      <th>4</th>\n",
       "      <td>孙尚香</td>\n",
       "      <td>sun shang_xiang</td>\n",
       "      <td>男</td>\n",
       "      <td>420953199509082345</td>\n",
       "      <td>low:172_bad</td>\n",
       "      <td>广东广州</td>\n",
       "      <td>19384683910</td>\n",
       "      <td>2.0万</td>\n",
       "    </tr>\n",
       "  </tbody>\n",
       "</table>\n",
       "</div>"
      ],
      "text/plain": [
       "     姓名              英文名     性别                 身份证                 身高  家庭住址  \\\n",
       "0   黄同学   Huang tong_xue      男  463895200003128433       mid:175_good  湖北广水   \n",
       "1  黄至尊     huang zhi_zun  women  429475199912122345        low:165_bad  河南信阳   \n",
       "2   黄老邪    Huang Lao_xie    men  420934199110102311        low:159_bad  广西桂林   \n",
       "3   陈大美      Chen Da_mei      女  431085200005230122  high:180_verygood  湖北孝感   \n",
       "4   孙尚香  sun shang_xiang      男  420953199509082345        low:172_bad  广东广州   \n",
       "\n",
       "          电话号码    收入  \n",
       "0  13434813546  1.1万  \n",
       "1  19748672895  8.5千  \n",
       "2  16728613064  0.9万  \n",
       "3  14561586431  6.5千  \n",
       "4  19384683910  2.0万  "
      ]
     },
     "execution_count": 68,
     "metadata": {},
     "output_type": "execute_result"
    }
   ],
   "source": [
    "df"
   ]
  },
  {
   "cell_type": "markdown",
   "metadata": {},
   "source": [
    "### 将字符串分割，返回列表"
   ]
  },
  {
   "cell_type": "code",
   "execution_count": 69,
   "metadata": {},
   "outputs": [
    {
     "data": {
      "text/plain": [
       "0         [mid, 175_good]\n",
       "1          [low, 165_bad]\n",
       "2          [low, 159_bad]\n",
       "3    [high, 180_verygood]\n",
       "4          [low, 172_bad]\n",
       "Name: 身高, dtype: object"
      ]
     },
     "execution_count": 69,
     "metadata": {},
     "output_type": "execute_result"
    }
   ],
   "source": [
    "df.身高.str.split(':')"
   ]
  },
  {
   "cell_type": "markdown",
   "metadata": {},
   "source": [
    "### split结合get得到元素"
   ]
  },
  {
   "cell_type": "code",
   "execution_count": 70,
   "metadata": {},
   "outputs": [
    {
     "data": {
      "text/plain": [
       "0     mid\n",
       "1     low\n",
       "2     low\n",
       "3    high\n",
       "4     low\n",
       "Name: 身高, dtype: object"
      ]
     },
     "execution_count": 70,
     "metadata": {},
     "output_type": "execute_result"
    }
   ],
   "source": [
    "df.身高.str.split(':').str.get(0)"
   ]
  },
  {
   "cell_type": "markdown",
   "metadata": {},
   "source": [
    "### 获取字符串的长度"
   ]
  },
  {
   "cell_type": "code",
   "execution_count": 71,
   "metadata": {},
   "outputs": [
    {
     "data": {
      "text/plain": [
       "0    1\n",
       "1    5\n",
       "2    3\n",
       "3    1\n",
       "4    1\n",
       "Name: 性别, dtype: int64"
      ]
     },
     "execution_count": 71,
     "metadata": {},
     "output_type": "execute_result"
    }
   ],
   "source": [
    "df.性别.str.len()"
   ]
  },
  {
   "cell_type": "markdown",
   "metadata": {},
   "source": [
    "### 字符串转换大小写"
   ]
  },
  {
   "cell_type": "code",
   "execution_count": 72,
   "metadata": {},
   "outputs": [
    {
     "data": {
      "text/plain": [
       "0     HUANG TONG_XUE\n",
       "1      HUANG ZHI_ZUN\n",
       "2      HUANG LAO_XIE\n",
       "3        CHEN DA_MEI\n",
       "4    SUN SHANG_XIANG\n",
       "Name: 英文名, dtype: object"
      ]
     },
     "execution_count": 72,
     "metadata": {},
     "output_type": "execute_result"
    }
   ],
   "source": [
    "df.英文名.str.upper()"
   ]
  },
  {
   "cell_type": "code",
   "execution_count": 73,
   "metadata": {},
   "outputs": [
    {
     "data": {
      "text/plain": [
       "0     huang tong_xue\n",
       "1      huang zhi_zun\n",
       "2      huang lao_xie\n",
       "3        chen da_mei\n",
       "4    sun shang_xiang\n",
       "Name: 英文名, dtype: object"
      ]
     },
     "execution_count": 73,
     "metadata": {},
     "output_type": "execute_result"
    }
   ],
   "source": [
    "df.英文名.str.lower()"
   ]
  },
  {
   "cell_type": "code",
   "execution_count": 74,
   "metadata": {},
   "outputs": [
    {
     "data": {
      "text/html": [
       "<div>\n",
       "<style scoped>\n",
       "    .dataframe tbody tr th:only-of-type {\n",
       "        vertical-align: middle;\n",
       "    }\n",
       "\n",
       "    .dataframe tbody tr th {\n",
       "        vertical-align: top;\n",
       "    }\n",
       "\n",
       "    .dataframe thead th {\n",
       "        text-align: right;\n",
       "    }\n",
       "</style>\n",
       "<table border=\"1\" class=\"dataframe\">\n",
       "  <thead>\n",
       "    <tr style=\"text-align: right;\">\n",
       "      <th></th>\n",
       "      <th>姓名</th>\n",
       "      <th>英文名</th>\n",
       "      <th>性别</th>\n",
       "      <th>身份证</th>\n",
       "      <th>身高</th>\n",
       "      <th>家庭住址</th>\n",
       "      <th>电话号码</th>\n",
       "      <th>收入</th>\n",
       "    </tr>\n",
       "  </thead>\n",
       "  <tbody>\n",
       "    <tr>\n",
       "      <th>0</th>\n",
       "      <td>黄同学</td>\n",
       "      <td>Huang tong_xue</td>\n",
       "      <td>男</td>\n",
       "      <td>463895200003128433</td>\n",
       "      <td>mid:175_good</td>\n",
       "      <td>湖北广水</td>\n",
       "      <td>13434813546</td>\n",
       "      <td>1.1万</td>\n",
       "    </tr>\n",
       "    <tr>\n",
       "      <th>1</th>\n",
       "      <td>黄至尊</td>\n",
       "      <td>huang zhi_zun</td>\n",
       "      <td>women</td>\n",
       "      <td>429475199912122345</td>\n",
       "      <td>low:165_bad</td>\n",
       "      <td>河南信阳</td>\n",
       "      <td>19748672895</td>\n",
       "      <td>8.5千</td>\n",
       "    </tr>\n",
       "    <tr>\n",
       "      <th>2</th>\n",
       "      <td>黄老邪</td>\n",
       "      <td>Huang Lao_xie</td>\n",
       "      <td>men</td>\n",
       "      <td>420934199110102311</td>\n",
       "      <td>low:159_bad</td>\n",
       "      <td>广西桂林</td>\n",
       "      <td>16728613064</td>\n",
       "      <td>0.9万</td>\n",
       "    </tr>\n",
       "    <tr>\n",
       "      <th>3</th>\n",
       "      <td>陈大美</td>\n",
       "      <td>Chen Da_mei</td>\n",
       "      <td>女</td>\n",
       "      <td>431085200005230122</td>\n",
       "      <td>high:180_verygood</td>\n",
       "      <td>湖北孝感</td>\n",
       "      <td>14561586431</td>\n",
       "      <td>6.5千</td>\n",
       "    </tr>\n",
       "    <tr>\n",
       "      <th>4</th>\n",
       "      <td>孙尚香</td>\n",
       "      <td>sun shang_xiang</td>\n",
       "      <td>男</td>\n",
       "      <td>420953199509082345</td>\n",
       "      <td>low:172_bad</td>\n",
       "      <td>广东广州</td>\n",
       "      <td>19384683910</td>\n",
       "      <td>2.0万</td>\n",
       "    </tr>\n",
       "  </tbody>\n",
       "</table>\n",
       "</div>"
      ],
      "text/plain": [
       "     姓名              英文名     性别                 身份证                 身高  家庭住址  \\\n",
       "0   黄同学   Huang tong_xue      男  463895200003128433       mid:175_good  湖北广水   \n",
       "1  黄至尊     huang zhi_zun  women  429475199912122345        low:165_bad  河南信阳   \n",
       "2   黄老邪    Huang Lao_xie    men  420934199110102311        low:159_bad  广西桂林   \n",
       "3   陈大美      Chen Da_mei      女  431085200005230122  high:180_verygood  湖北孝感   \n",
       "4   孙尚香  sun shang_xiang      男  420953199509082345        low:172_bad  广东广州   \n",
       "\n",
       "          电话号码    收入  \n",
       "0  13434813546  1.1万  \n",
       "1  19748672895  8.5千  \n",
       "2  16728613064  0.9万  \n",
       "3  14561586431  6.5千  \n",
       "4  19384683910  2.0万  "
      ]
     },
     "execution_count": 74,
     "metadata": {},
     "output_type": "execute_result"
    }
   ],
   "source": [
    "df"
   ]
  },
  {
   "cell_type": "markdown",
   "metadata": {},
   "source": [
    "### 同ljust,rjust,center等等"
   ]
  },
  {
   "cell_type": "code",
   "execution_count": 75,
   "metadata": {},
   "outputs": [
    {
     "data": {
      "text/plain": [
       "0    ******湖北广水\n",
       "1    ******河南信阳\n",
       "2    ******广西桂林\n",
       "3    ******湖北孝感\n",
       "4    ******广东广州\n",
       "Name: 家庭住址, dtype: object"
      ]
     },
     "execution_count": 75,
     "metadata": {},
     "output_type": "execute_result"
    }
   ],
   "source": [
    "df.家庭住址.str.pad(10, fillchar='*')"
   ]
  },
  {
   "cell_type": "code",
   "execution_count": 76,
   "metadata": {},
   "outputs": [
    {
     "data": {
      "text/plain": [
       "0    湖北广水******\n",
       "1    河南信阳******\n",
       "2    广西桂林******\n",
       "3    湖北孝感******\n",
       "4    广东广州******\n",
       "Name: 家庭住址, dtype: object"
      ]
     },
     "execution_count": 76,
     "metadata": {},
     "output_type": "execute_result"
    }
   ],
   "source": [
    "df.家庭住址.str.pad(10,side='right', fillchar='*')"
   ]
  },
  {
   "cell_type": "code",
   "execution_count": 93,
   "metadata": {},
   "outputs": [
    {
     "data": {
      "text/plain": [
       "0    ***湖北广水***\n",
       "1    ***河南信阳***\n",
       "2    ***广西桂林***\n",
       "3    ***湖北孝感***\n",
       "4    ***广东广州***\n",
       "Name: 家庭住址, dtype: object"
      ]
     },
     "execution_count": 93,
     "metadata": {},
     "output_type": "execute_result"
    }
   ],
   "source": [
    "df.家庭住址.str.center(10, fillchar='*')"
   ]
  },
  {
   "cell_type": "code",
   "execution_count": 77,
   "metadata": {},
   "outputs": [
    {
     "data": {
      "text/html": [
       "<div>\n",
       "<style scoped>\n",
       "    .dataframe tbody tr th:only-of-type {\n",
       "        vertical-align: middle;\n",
       "    }\n",
       "\n",
       "    .dataframe tbody tr th {\n",
       "        vertical-align: top;\n",
       "    }\n",
       "\n",
       "    .dataframe thead th {\n",
       "        text-align: right;\n",
       "    }\n",
       "</style>\n",
       "<table border=\"1\" class=\"dataframe\">\n",
       "  <thead>\n",
       "    <tr style=\"text-align: right;\">\n",
       "      <th></th>\n",
       "      <th>姓名</th>\n",
       "      <th>英文名</th>\n",
       "      <th>性别</th>\n",
       "      <th>身份证</th>\n",
       "      <th>身高</th>\n",
       "      <th>家庭住址</th>\n",
       "      <th>电话号码</th>\n",
       "      <th>收入</th>\n",
       "    </tr>\n",
       "  </thead>\n",
       "  <tbody>\n",
       "    <tr>\n",
       "      <th>0</th>\n",
       "      <td>黄同学</td>\n",
       "      <td>Huang tong_xue</td>\n",
       "      <td>男</td>\n",
       "      <td>463895200003128433</td>\n",
       "      <td>mid:175_good</td>\n",
       "      <td>湖北广水</td>\n",
       "      <td>13434813546</td>\n",
       "      <td>1.1万</td>\n",
       "    </tr>\n",
       "    <tr>\n",
       "      <th>1</th>\n",
       "      <td>黄至尊</td>\n",
       "      <td>huang zhi_zun</td>\n",
       "      <td>women</td>\n",
       "      <td>429475199912122345</td>\n",
       "      <td>low:165_bad</td>\n",
       "      <td>河南信阳</td>\n",
       "      <td>19748672895</td>\n",
       "      <td>8.5千</td>\n",
       "    </tr>\n",
       "    <tr>\n",
       "      <th>2</th>\n",
       "      <td>黄老邪</td>\n",
       "      <td>Huang Lao_xie</td>\n",
       "      <td>men</td>\n",
       "      <td>420934199110102311</td>\n",
       "      <td>low:159_bad</td>\n",
       "      <td>广西桂林</td>\n",
       "      <td>16728613064</td>\n",
       "      <td>0.9万</td>\n",
       "    </tr>\n",
       "    <tr>\n",
       "      <th>3</th>\n",
       "      <td>陈大美</td>\n",
       "      <td>Chen Da_mei</td>\n",
       "      <td>女</td>\n",
       "      <td>431085200005230122</td>\n",
       "      <td>high:180_verygood</td>\n",
       "      <td>湖北孝感</td>\n",
       "      <td>14561586431</td>\n",
       "      <td>6.5千</td>\n",
       "    </tr>\n",
       "    <tr>\n",
       "      <th>4</th>\n",
       "      <td>孙尚香</td>\n",
       "      <td>sun shang_xiang</td>\n",
       "      <td>男</td>\n",
       "      <td>420953199509082345</td>\n",
       "      <td>low:172_bad</td>\n",
       "      <td>广东广州</td>\n",
       "      <td>19384683910</td>\n",
       "      <td>2.0万</td>\n",
       "    </tr>\n",
       "  </tbody>\n",
       "</table>\n",
       "</div>"
      ],
      "text/plain": [
       "     姓名              英文名     性别                 身份证                 身高  家庭住址  \\\n",
       "0   黄同学   Huang tong_xue      男  463895200003128433       mid:175_good  湖北广水   \n",
       "1  黄至尊     huang zhi_zun  women  429475199912122345        low:165_bad  河南信阳   \n",
       "2   黄老邪    Huang Lao_xie    men  420934199110102311        low:159_bad  广西桂林   \n",
       "3   陈大美      Chen Da_mei      女  431085200005230122  high:180_verygood  湖北孝感   \n",
       "4   孙尚香  sun shang_xiang      男  420953199509082345        low:172_bad  广东广州   \n",
       "\n",
       "          电话号码    收入  \n",
       "0  13434813546  1.1万  \n",
       "1  19748672895  8.5千  \n",
       "2  16728613064  0.9万  \n",
       "3  14561586431  6.5千  \n",
       "4  19384683910  2.0万  "
      ]
     },
     "execution_count": 77,
     "metadata": {},
     "output_type": "execute_result"
    }
   ],
   "source": [
    "df"
   ]
  },
  {
   "cell_type": "markdown",
   "metadata": {},
   "source": [
    "### 将单元格中的字符串重复多次"
   ]
  },
  {
   "cell_type": "code",
   "execution_count": 78,
   "metadata": {},
   "outputs": [
    {
     "data": {
      "text/plain": [
       "0                男男男\n",
       "1    womenwomenwomen\n",
       "2          menmenmen\n",
       "3                女女女\n",
       "4                男男男\n",
       "Name: 性别, dtype: object"
      ]
     },
     "execution_count": 78,
     "metadata": {},
     "output_type": "execute_result"
    }
   ],
   "source": [
    "df.性别.str.repeat(3)"
   ]
  },
  {
   "cell_type": "markdown",
   "metadata": {},
   "source": [
    "### 将字符串中某一段进行替换"
   ]
  },
  {
   "cell_type": "code",
   "execution_count": 79,
   "metadata": {},
   "outputs": [
    {
     "data": {
      "text/plain": [
       "0    1343****546\n",
       "1    1974****895\n",
       "2    1672****064\n",
       "3    1456****431\n",
       "4    1938****910\n",
       "Name: 电话号码, dtype: object"
      ]
     },
     "execution_count": 79,
     "metadata": {},
     "output_type": "execute_result"
    }
   ],
   "source": [
    "df.电话号码.str.slice_replace(4,8, '*'*4)"
   ]
  },
  {
   "cell_type": "markdown",
   "metadata": {},
   "source": [
    "### 将特定元素替换，可以使用正则，实现translate的效果"
   ]
  },
  {
   "cell_type": "code",
   "execution_count": 80,
   "metadata": {},
   "outputs": [
    {
     "data": {
      "text/plain": [
       "0         mid_175_good\n",
       "1          low_165_bad\n",
       "2          low_159_bad\n",
       "3    high_180_verygood\n",
       "4          low_172_bad\n",
       "Name: 身高, dtype: object"
      ]
     },
     "execution_count": 80,
     "metadata": {},
     "output_type": "execute_result"
    }
   ],
   "source": [
    "df.身高.str.replace(':', '_')"
   ]
  },
  {
   "cell_type": "code",
   "execution_count": 94,
   "metadata": {},
   "outputs": [
    {
     "data": {
      "text/plain": [
       "0         mid-175-good\n",
       "1          low-165-bad\n",
       "2          low-159-bad\n",
       "3    high-180-verygood\n",
       "4          low-172-bad\n",
       "Name: 身高, dtype: object"
      ]
     },
     "execution_count": 94,
     "metadata": {},
     "output_type": "execute_result"
    }
   ],
   "source": [
    "df.身高.str.replace('[:_]', '-')"
   ]
  },
  {
   "cell_type": "code",
   "execution_count": 81,
   "metadata": {},
   "outputs": [
    {
     "data": {
      "text/html": [
       "<div>\n",
       "<style scoped>\n",
       "    .dataframe tbody tr th:only-of-type {\n",
       "        vertical-align: middle;\n",
       "    }\n",
       "\n",
       "    .dataframe tbody tr th {\n",
       "        vertical-align: top;\n",
       "    }\n",
       "\n",
       "    .dataframe thead th {\n",
       "        text-align: right;\n",
       "    }\n",
       "</style>\n",
       "<table border=\"1\" class=\"dataframe\">\n",
       "  <thead>\n",
       "    <tr style=\"text-align: right;\">\n",
       "      <th></th>\n",
       "      <th>姓名</th>\n",
       "      <th>英文名</th>\n",
       "      <th>性别</th>\n",
       "      <th>身份证</th>\n",
       "      <th>身高</th>\n",
       "      <th>家庭住址</th>\n",
       "      <th>电话号码</th>\n",
       "      <th>收入</th>\n",
       "    </tr>\n",
       "  </thead>\n",
       "  <tbody>\n",
       "    <tr>\n",
       "      <th>0</th>\n",
       "      <td>黄同学</td>\n",
       "      <td>Huang tong_xue</td>\n",
       "      <td>男</td>\n",
       "      <td>463895200003128433</td>\n",
       "      <td>mid:175_good</td>\n",
       "      <td>湖北广水</td>\n",
       "      <td>13434813546</td>\n",
       "      <td>1.1万</td>\n",
       "    </tr>\n",
       "    <tr>\n",
       "      <th>1</th>\n",
       "      <td>黄至尊</td>\n",
       "      <td>huang zhi_zun</td>\n",
       "      <td>women</td>\n",
       "      <td>429475199912122345</td>\n",
       "      <td>low:165_bad</td>\n",
       "      <td>河南信阳</td>\n",
       "      <td>19748672895</td>\n",
       "      <td>8.5千</td>\n",
       "    </tr>\n",
       "    <tr>\n",
       "      <th>2</th>\n",
       "      <td>黄老邪</td>\n",
       "      <td>Huang Lao_xie</td>\n",
       "      <td>men</td>\n",
       "      <td>420934199110102311</td>\n",
       "      <td>low:159_bad</td>\n",
       "      <td>广西桂林</td>\n",
       "      <td>16728613064</td>\n",
       "      <td>0.9万</td>\n",
       "    </tr>\n",
       "    <tr>\n",
       "      <th>3</th>\n",
       "      <td>陈大美</td>\n",
       "      <td>Chen Da_mei</td>\n",
       "      <td>女</td>\n",
       "      <td>431085200005230122</td>\n",
       "      <td>high:180_verygood</td>\n",
       "      <td>湖北孝感</td>\n",
       "      <td>14561586431</td>\n",
       "      <td>6.5千</td>\n",
       "    </tr>\n",
       "    <tr>\n",
       "      <th>4</th>\n",
       "      <td>孙尚香</td>\n",
       "      <td>sun shang_xiang</td>\n",
       "      <td>男</td>\n",
       "      <td>420953199509082345</td>\n",
       "      <td>low:172_bad</td>\n",
       "      <td>广东广州</td>\n",
       "      <td>19384683910</td>\n",
       "      <td>2.0万</td>\n",
       "    </tr>\n",
       "  </tbody>\n",
       "</table>\n",
       "</div>"
      ],
      "text/plain": [
       "     姓名              英文名     性别                 身份证                 身高  家庭住址  \\\n",
       "0   黄同学   Huang tong_xue      男  463895200003128433       mid:175_good  湖北广水   \n",
       "1  黄至尊     huang zhi_zun  women  429475199912122345        low:165_bad  河南信阳   \n",
       "2   黄老邪    Huang Lao_xie    men  420934199110102311        low:159_bad  广西桂林   \n",
       "3   陈大美      Chen Da_mei      女  431085200005230122  high:180_verygood  湖北孝感   \n",
       "4   孙尚香  sun shang_xiang      男  420953199509082345        low:172_bad  广东广州   \n",
       "\n",
       "          电话号码    收入  \n",
       "0  13434813546  1.1万  \n",
       "1  19748672895  8.5千  \n",
       "2  16728613064  0.9万  \n",
       "3  14561586431  6.5千  \n",
       "4  19384683910  2.0万  "
      ]
     },
     "execution_count": 81,
     "metadata": {},
     "output_type": "execute_result"
    }
   ],
   "source": [
    "df"
   ]
  },
  {
   "cell_type": "code",
   "execution_count": 82,
   "metadata": {},
   "outputs": [
    {
     "data": {
      "text/plain": [
       "0    正则万\n",
       "1    正则千\n",
       "2    正则万\n",
       "3    正则千\n",
       "4    正则万\n",
       "Name: 收入, dtype: object"
      ]
     },
     "execution_count": 82,
     "metadata": {},
     "output_type": "execute_result"
    }
   ],
   "source": [
    "df.收入.str.replace('\\d\\.\\d', '正则', regex=True)"
   ]
  },
  {
   "cell_type": "markdown",
   "metadata": {},
   "source": [
    "### 将split分开的list分成两列，并命名"
   ]
  },
  {
   "cell_type": "code",
   "execution_count": 83,
   "metadata": {},
   "outputs": [],
   "source": [
    "# df.身高.str.split(':')\n",
    "df[['身高描述', 'final身高']] = df.身高.str.split(':', expand=True)"
   ]
  },
  {
   "cell_type": "code",
   "execution_count": 84,
   "metadata": {},
   "outputs": [
    {
     "data": {
      "text/html": [
       "<div>\n",
       "<style scoped>\n",
       "    .dataframe tbody tr th:only-of-type {\n",
       "        vertical-align: middle;\n",
       "    }\n",
       "\n",
       "    .dataframe tbody tr th {\n",
       "        vertical-align: top;\n",
       "    }\n",
       "\n",
       "    .dataframe thead th {\n",
       "        text-align: right;\n",
       "    }\n",
       "</style>\n",
       "<table border=\"1\" class=\"dataframe\">\n",
       "  <thead>\n",
       "    <tr style=\"text-align: right;\">\n",
       "      <th></th>\n",
       "      <th>姓名</th>\n",
       "      <th>英文名</th>\n",
       "      <th>性别</th>\n",
       "      <th>身份证</th>\n",
       "      <th>身高</th>\n",
       "      <th>家庭住址</th>\n",
       "      <th>电话号码</th>\n",
       "      <th>收入</th>\n",
       "      <th>身高描述</th>\n",
       "      <th>final身高</th>\n",
       "    </tr>\n",
       "  </thead>\n",
       "  <tbody>\n",
       "    <tr>\n",
       "      <th>0</th>\n",
       "      <td>黄同学</td>\n",
       "      <td>Huang tong_xue</td>\n",
       "      <td>男</td>\n",
       "      <td>463895200003128433</td>\n",
       "      <td>mid:175_good</td>\n",
       "      <td>湖北广水</td>\n",
       "      <td>13434813546</td>\n",
       "      <td>1.1万</td>\n",
       "      <td>mid</td>\n",
       "      <td>175_good</td>\n",
       "    </tr>\n",
       "    <tr>\n",
       "      <th>1</th>\n",
       "      <td>黄至尊</td>\n",
       "      <td>huang zhi_zun</td>\n",
       "      <td>women</td>\n",
       "      <td>429475199912122345</td>\n",
       "      <td>low:165_bad</td>\n",
       "      <td>河南信阳</td>\n",
       "      <td>19748672895</td>\n",
       "      <td>8.5千</td>\n",
       "      <td>low</td>\n",
       "      <td>165_bad</td>\n",
       "    </tr>\n",
       "    <tr>\n",
       "      <th>2</th>\n",
       "      <td>黄老邪</td>\n",
       "      <td>Huang Lao_xie</td>\n",
       "      <td>men</td>\n",
       "      <td>420934199110102311</td>\n",
       "      <td>low:159_bad</td>\n",
       "      <td>广西桂林</td>\n",
       "      <td>16728613064</td>\n",
       "      <td>0.9万</td>\n",
       "      <td>low</td>\n",
       "      <td>159_bad</td>\n",
       "    </tr>\n",
       "    <tr>\n",
       "      <th>3</th>\n",
       "      <td>陈大美</td>\n",
       "      <td>Chen Da_mei</td>\n",
       "      <td>女</td>\n",
       "      <td>431085200005230122</td>\n",
       "      <td>high:180_verygood</td>\n",
       "      <td>湖北孝感</td>\n",
       "      <td>14561586431</td>\n",
       "      <td>6.5千</td>\n",
       "      <td>high</td>\n",
       "      <td>180_verygood</td>\n",
       "    </tr>\n",
       "    <tr>\n",
       "      <th>4</th>\n",
       "      <td>孙尚香</td>\n",
       "      <td>sun shang_xiang</td>\n",
       "      <td>男</td>\n",
       "      <td>420953199509082345</td>\n",
       "      <td>low:172_bad</td>\n",
       "      <td>广东广州</td>\n",
       "      <td>19384683910</td>\n",
       "      <td>2.0万</td>\n",
       "      <td>low</td>\n",
       "      <td>172_bad</td>\n",
       "    </tr>\n",
       "  </tbody>\n",
       "</table>\n",
       "</div>"
      ],
      "text/plain": [
       "     姓名              英文名     性别                 身份证                 身高  家庭住址  \\\n",
       "0   黄同学   Huang tong_xue      男  463895200003128433       mid:175_good  湖北广水   \n",
       "1  黄至尊     huang zhi_zun  women  429475199912122345        low:165_bad  河南信阳   \n",
       "2   黄老邪    Huang Lao_xie    men  420934199110102311        low:159_bad  广西桂林   \n",
       "3   陈大美      Chen Da_mei      女  431085200005230122  high:180_verygood  湖北孝感   \n",
       "4   孙尚香  sun shang_xiang      男  420953199509082345        low:172_bad  广东广州   \n",
       "\n",
       "          电话号码    收入  身高描述       final身高  \n",
       "0  13434813546  1.1万   mid      175_good  \n",
       "1  19748672895  8.5千   low       165_bad  \n",
       "2  16728613064  0.9万   low       159_bad  \n",
       "3  14561586431  6.5千  high  180_verygood  \n",
       "4  19384683910  2.0万   low       172_bad  "
      ]
     },
     "execution_count": 84,
     "metadata": {},
     "output_type": "execute_result"
    }
   ],
   "source": [
    "df"
   ]
  },
  {
   "cell_type": "code",
   "execution_count": 85,
   "metadata": {},
   "outputs": [
    {
     "data": {
      "text/plain": [
       "0    4\n",
       "1    4\n",
       "2    3\n",
       "3    3\n",
       "4    3\n",
       "Name: 姓名, dtype: int64"
      ]
     },
     "execution_count": 85,
     "metadata": {},
     "output_type": "execute_result"
    }
   ],
   "source": [
    "df.姓名.str.len()"
   ]
  },
  {
   "cell_type": "markdown",
   "metadata": {},
   "source": [
    "### strip去除空格和换行符"
   ]
  },
  {
   "cell_type": "code",
   "execution_count": 86,
   "metadata": {},
   "outputs": [],
   "source": [
    "df.姓名 = df.姓名.str.strip()"
   ]
  },
  {
   "cell_type": "code",
   "execution_count": 87,
   "metadata": {},
   "outputs": [
    {
     "data": {
      "text/plain": [
       "0    3\n",
       "1    3\n",
       "2    3\n",
       "3    3\n",
       "4    3\n",
       "Name: 姓名, dtype: int64"
      ]
     },
     "execution_count": 87,
     "metadata": {},
     "output_type": "execute_result"
    }
   ],
   "source": [
    "df.姓名.str.len()"
   ]
  },
  {
   "cell_type": "markdown",
   "metadata": {},
   "source": [
    "### 正则查找、提取符合条件的值"
   ]
  },
  {
   "cell_type": "code",
   "execution_count": 88,
   "metadata": {},
   "outputs": [
    {
     "data": {
      "text/plain": [
       "0         [mid, good]\n",
       "1          [low, bad]\n",
       "2          [low, bad]\n",
       "3    [high, verygood]\n",
       "4          [low, bad]\n",
       "Name: 身高, dtype: object"
      ]
     },
     "execution_count": 88,
     "metadata": {},
     "output_type": "execute_result"
    }
   ],
   "source": [
    "df.身高.str.findall('[a-zA-Z]+')"
   ]
  },
  {
   "cell_type": "code",
   "execution_count": 89,
   "metadata": {},
   "outputs": [
    {
     "data": {
      "text/html": [
       "<div>\n",
       "<style scoped>\n",
       "    .dataframe tbody tr th:only-of-type {\n",
       "        vertical-align: middle;\n",
       "    }\n",
       "\n",
       "    .dataframe tbody tr th {\n",
       "        vertical-align: top;\n",
       "    }\n",
       "\n",
       "    .dataframe thead th {\n",
       "        text-align: right;\n",
       "    }\n",
       "</style>\n",
       "<table border=\"1\" class=\"dataframe\">\n",
       "  <thead>\n",
       "    <tr style=\"text-align: right;\">\n",
       "      <th></th>\n",
       "      <th>0</th>\n",
       "    </tr>\n",
       "  </thead>\n",
       "  <tbody>\n",
       "    <tr>\n",
       "      <th>0</th>\n",
       "      <td>mid</td>\n",
       "    </tr>\n",
       "    <tr>\n",
       "      <th>1</th>\n",
       "      <td>low</td>\n",
       "    </tr>\n",
       "    <tr>\n",
       "      <th>2</th>\n",
       "      <td>low</td>\n",
       "    </tr>\n",
       "    <tr>\n",
       "      <th>3</th>\n",
       "      <td>high</td>\n",
       "    </tr>\n",
       "    <tr>\n",
       "      <th>4</th>\n",
       "      <td>low</td>\n",
       "    </tr>\n",
       "  </tbody>\n",
       "</table>\n",
       "</div>"
      ],
      "text/plain": [
       "      0\n",
       "0   mid\n",
       "1   low\n",
       "2   low\n",
       "3  high\n",
       "4   low"
      ]
     },
     "execution_count": 89,
     "metadata": {},
     "output_type": "execute_result"
    }
   ],
   "source": [
    "df.身高.str.extract('([a-zA-Z]+)')"
   ]
  },
  {
   "cell_type": "code",
   "execution_count": 90,
   "metadata": {},
   "outputs": [
    {
     "data": {
      "text/html": [
       "<div>\n",
       "<style scoped>\n",
       "    .dataframe tbody tr th:only-of-type {\n",
       "        vertical-align: middle;\n",
       "    }\n",
       "\n",
       "    .dataframe tbody tr th {\n",
       "        vertical-align: top;\n",
       "    }\n",
       "\n",
       "    .dataframe thead tr th {\n",
       "        text-align: left;\n",
       "    }\n",
       "</style>\n",
       "<table border=\"1\" class=\"dataframe\">\n",
       "  <thead>\n",
       "    <tr>\n",
       "      <th></th>\n",
       "      <th colspan=\"2\" halign=\"left\">0</th>\n",
       "    </tr>\n",
       "    <tr>\n",
       "      <th>match</th>\n",
       "      <th>0</th>\n",
       "      <th>1</th>\n",
       "    </tr>\n",
       "  </thead>\n",
       "  <tbody>\n",
       "    <tr>\n",
       "      <th>0</th>\n",
       "      <td>mid</td>\n",
       "      <td>good</td>\n",
       "    </tr>\n",
       "    <tr>\n",
       "      <th>1</th>\n",
       "      <td>low</td>\n",
       "      <td>bad</td>\n",
       "    </tr>\n",
       "    <tr>\n",
       "      <th>2</th>\n",
       "      <td>low</td>\n",
       "      <td>bad</td>\n",
       "    </tr>\n",
       "    <tr>\n",
       "      <th>3</th>\n",
       "      <td>high</td>\n",
       "      <td>verygood</td>\n",
       "    </tr>\n",
       "    <tr>\n",
       "      <th>4</th>\n",
       "      <td>low</td>\n",
       "      <td>bad</td>\n",
       "    </tr>\n",
       "  </tbody>\n",
       "</table>\n",
       "</div>"
      ],
      "text/plain": [
       "          0          \n",
       "match     0         1\n",
       "0       mid      good\n",
       "1       low       bad\n",
       "2       low       bad\n",
       "3      high  verygood\n",
       "4       low       bad"
      ]
     },
     "execution_count": 90,
     "metadata": {},
     "output_type": "execute_result"
    }
   ],
   "source": [
    "df.身高.str.extractall('([a-zA-Z]+)').unstack()"
   ]
  },
  {
   "cell_type": "code",
   "execution_count": 91,
   "metadata": {},
   "outputs": [
    {
     "data": {
      "text/html": [
       "<div>\n",
       "<style scoped>\n",
       "    .dataframe tbody tr th:only-of-type {\n",
       "        vertical-align: middle;\n",
       "    }\n",
       "\n",
       "    .dataframe tbody tr th {\n",
       "        vertical-align: top;\n",
       "    }\n",
       "\n",
       "    .dataframe thead th {\n",
       "        text-align: right;\n",
       "    }\n",
       "</style>\n",
       "<table border=\"1\" class=\"dataframe\">\n",
       "  <thead>\n",
       "    <tr style=\"text-align: right;\">\n",
       "      <th></th>\n",
       "      <th>0</th>\n",
       "      <th>1</th>\n",
       "    </tr>\n",
       "  </thead>\n",
       "  <tbody>\n",
       "    <tr>\n",
       "      <th>0</th>\n",
       "      <td>mid</td>\n",
       "      <td>good</td>\n",
       "    </tr>\n",
       "    <tr>\n",
       "      <th>1</th>\n",
       "      <td>low</td>\n",
       "      <td>bad</td>\n",
       "    </tr>\n",
       "    <tr>\n",
       "      <th>2</th>\n",
       "      <td>low</td>\n",
       "      <td>bad</td>\n",
       "    </tr>\n",
       "    <tr>\n",
       "      <th>3</th>\n",
       "      <td>high</td>\n",
       "      <td>verygood</td>\n",
       "    </tr>\n",
       "    <tr>\n",
       "      <th>4</th>\n",
       "      <td>low</td>\n",
       "      <td>bad</td>\n",
       "    </tr>\n",
       "  </tbody>\n",
       "</table>\n",
       "</div>"
      ],
      "text/plain": [
       "      0         1\n",
       "0   mid      good\n",
       "1   low       bad\n",
       "2   low       bad\n",
       "3  high  verygood\n",
       "4   low       bad"
      ]
     },
     "execution_count": 91,
     "metadata": {},
     "output_type": "execute_result"
    }
   ],
   "source": [
    "df.身高.str.extract('([a-zA-Z]+).*?([a-zA-Z]+)', expand=True)"
   ]
  }
 ],
 "metadata": {
  "interpreter": {
   "hash": "38740d3277777e2cd7c6c2cc9d8addf5118fdf3f82b1b39231fd12aeac8aee8b"
  },
  "kernelspec": {
   "display_name": "Python 3.8.3 64-bit",
   "language": "python",
   "name": "python3"
  },
  "language_info": {
   "codemirror_mode": {
    "name": "ipython",
    "version": 3
   },
   "file_extension": ".py",
   "mimetype": "text/x-python",
   "name": "python",
   "nbconvert_exporter": "python",
   "pygments_lexer": "ipython3",
   "version": "3.8.3"
  },
  "orig_nbformat": 4
 },
 "nbformat": 4,
 "nbformat_minor": 2
}
